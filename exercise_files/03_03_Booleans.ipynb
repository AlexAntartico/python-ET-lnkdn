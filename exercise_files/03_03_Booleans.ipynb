{
 "cells": [
  {
   "cell_type": "markdown",
   "id": "b0b4ced9",
   "metadata": {},
   "source": [
    "## Booleans"
   ]
  },
  {
   "cell_type": "markdown",
   "id": "640d8e33",
   "metadata": {},
   "source": [
    "### Casting Booleans"
   ]
  },
  {
   "cell_type": "code",
   "execution_count": 1,
   "id": "fdfc97c5",
   "metadata": {},
   "outputs": [
    {
     "data": {
      "text/plain": [
       "True"
      ]
     },
     "execution_count": 1,
     "metadata": {},
     "output_type": "execute_result"
    }
   ],
   "source": [
    "bool(1)"
   ]
  },
  {
   "cell_type": "code",
   "execution_count": 2,
   "id": "4985b699",
   "metadata": {},
   "outputs": [
    {
     "data": {
      "text/plain": [
       "False"
      ]
     },
     "execution_count": 2,
     "metadata": {},
     "output_type": "execute_result"
    }
   ],
   "source": [
    "bool(0)"
   ]
  },
  {
   "cell_type": "code",
   "execution_count": 4,
   "id": "2416682d",
   "metadata": {},
   "outputs": [
    {
     "data": {
      "text/plain": [
       "True"
      ]
     },
     "execution_count": 4,
     "metadata": {},
     "output_type": "execute_result"
    }
   ],
   "source": [
    "# everyting but 0, will be casted to True\n",
    "bool(-1)"
   ]
  },
  {
   "cell_type": "code",
   "execution_count": 7,
   "id": "e0ab2a78",
   "metadata": {},
   "outputs": [
    {
     "data": {
      "text/plain": [
       "True"
      ]
     },
     "execution_count": 7,
     "metadata": {},
     "output_type": "execute_result"
    }
   ],
   "source": [
    "# imaginary\n",
    "bool(1j)"
   ]
  },
  {
   "cell_type": "code",
   "execution_count": 8,
   "id": "3358bc13",
   "metadata": {},
   "outputs": [
    {
     "data": {
      "text/plain": [
       "False"
      ]
     },
     "execution_count": 8,
     "metadata": {},
     "output_type": "execute_result"
    }
   ],
   "source": [
    "bool(0.0)"
   ]
  },
  {
   "cell_type": "code",
   "execution_count": 9,
   "id": "fb3a4e01",
   "metadata": {},
   "outputs": [
    {
     "data": {
      "text/plain": [
       "False"
      ]
     },
     "execution_count": 9,
     "metadata": {},
     "output_type": "execute_result"
    }
   ],
   "source": [
    "bool(0j)"
   ]
  },
  {
   "cell_type": "code",
   "execution_count": 10,
   "id": "6c75222b",
   "metadata": {},
   "outputs": [
    {
     "data": {
      "text/plain": [
       "True"
      ]
     },
     "execution_count": 10,
     "metadata": {},
     "output_type": "execute_result"
    }
   ],
   "source": [
    "bool('True')"
   ]
  },
  {
   "cell_type": "code",
   "execution_count": 12,
   "id": "1a7f925f",
   "metadata": {},
   "outputs": [
    {
     "data": {
      "text/plain": [
       "True"
      ]
     },
     "execution_count": 12,
     "metadata": {},
     "output_type": "execute_result"
    }
   ],
   "source": [
    "# anything other than an empty string, will be True\n",
    "bool('False')"
   ]
  },
  {
   "cell_type": "code",
   "execution_count": 20,
   "id": "3ddf506a",
   "metadata": {},
   "outputs": [
    {
     "data": {
      "text/plain": [
       "False"
      ]
     },
     "execution_count": 20,
     "metadata": {},
     "output_type": "execute_result"
    }
   ],
   "source": [
    "# This is an empty string, so its False\n",
    "bool('')"
   ]
  },
  {
   "cell_type": "code",
   "execution_count": 22,
   "id": "9175f7b0-dac1-4062-9d45-c746b3eb7ced",
   "metadata": {},
   "outputs": [
    {
     "data": {
      "text/plain": [
       "False"
      ]
     },
     "execution_count": 22,
     "metadata": {},
     "output_type": "execute_result"
    }
   ],
   "source": [
    "# bool function without any arguments, is False\n",
    "bool()"
   ]
  },
  {
   "cell_type": "code",
   "execution_count": 23,
   "id": "6a97eb8e",
   "metadata": {},
   "outputs": [
    {
     "data": {
      "text/plain": [
       "True"
      ]
     },
     "execution_count": 23,
     "metadata": {},
     "output_type": "execute_result"
    }
   ],
   "source": [
    "bool([1,2])"
   ]
  },
  {
   "cell_type": "code",
   "execution_count": 15,
   "id": "d853d681",
   "metadata": {},
   "outputs": [
    {
     "data": {
      "text/plain": [
       "False"
      ]
     },
     "execution_count": 15,
     "metadata": {},
     "output_type": "execute_result"
    }
   ],
   "source": [
    "# you are boolean evaluating an empty dict, so its false\n",
    "bool({})"
   ]
  },
  {
   "cell_type": "code",
   "execution_count": 16,
   "id": "b6080e95",
   "metadata": {},
   "outputs": [
    {
     "data": {
      "text/plain": [
       "False"
      ]
     },
     "execution_count": 16,
     "metadata": {},
     "output_type": "execute_result"
    }
   ],
   "source": [
    "bool(None)"
   ]
  },
  {
   "cell_type": "code",
   "execution_count": 24,
   "id": "4825cca1",
   "metadata": {},
   "outputs": [
    {
     "name": "stdout",
     "output_type": "stream",
     "text": [
      "Mylist has some values in it!\n"
     ]
    }
   ],
   "source": [
    "# here we are checking that the list is not empty\n",
    "myList = [1,2]\n",
    "# instead of 'if myList:'\n",
    "if bool(myList):\n",
    "    print('Mylist has some values in it!')"
   ]
  },
  {
   "cell_type": "code",
   "execution_count": 25,
   "id": "05a35e09",
   "metadata": {},
   "outputs": [],
   "source": [
    "a = 5\n",
    "b = 5\n",
    "if a - b:\n",
    "    print('a and b are not equal!')"
   ]
  },
  {
   "cell_type": "code",
   "execution_count": 26,
   "id": "66a2af0f",
   "metadata": {},
   "outputs": [
    {
     "data": {
      "text/plain": [
       "True"
      ]
     },
     "execution_count": 26,
     "metadata": {},
     "output_type": "execute_result"
    }
   ],
   "source": [
    "a == b"
   ]
  },
  {
   "cell_type": "markdown",
   "id": "f7286f88",
   "metadata": {},
   "source": [
    "### Boolean Logic"
   ]
  },
  {
   "cell_type": "code",
   "execution_count": 32,
   "id": "bc2dd672",
   "metadata": {},
   "outputs": [
    {
     "name": "stdout",
     "output_type": "stream",
     "text": [
      "Go for a walk\n"
     ]
    }
   ],
   "source": [
    "\n",
    "weatherIsNice = False\n",
    "haveUmbrella = True\n",
    "\n",
    "if not (haveUmbrella or weatherIsNice):\n",
    "    print('Stay inside')\n",
    "else:\n",
    "    print('Go for a walk')"
   ]
  },
  {
   "cell_type": "code",
   "execution_count": 34,
   "id": "6f773539-7910-4400-9ffe-e0ca0e20d16c",
   "metadata": {},
   "outputs": [
    {
     "name": "stdout",
     "output_type": "stream",
     "text": [
      "Stay inside\n"
     ]
    }
   ],
   "source": [
    "weatherIsNice = False\n",
    "haveUmbrella = False\n",
    "\n",
    "if not (haveUmbrella or weatherIsNice):\n",
    "    print('Stay inside')\n",
    "else:\n",
    "    print('Go for a walk')"
   ]
  },
  {
   "cell_type": "code",
   "execution_count": 28,
   "id": "0e4a5134",
   "metadata": {},
   "outputs": [
    {
     "name": "stdout",
     "output_type": "stream",
     "text": [
      "Go for a walk\n"
     ]
    }
   ],
   "source": [
    "weatherIsNice = True\n",
    "haveUmbrella = False\n",
    "\n",
    "if (not haveUmbrella) and (not weatherIsNice):\n",
    "    print('Stay inside')\n",
    "else:\n",
    "    print('Go for a walk')"
   ]
  },
  {
   "cell_type": "code",
   "execution_count": 29,
   "id": "725f330a",
   "metadata": {},
   "outputs": [
    {
     "name": "stdout",
     "output_type": "stream",
     "text": [
      "Go for a walk\n"
     ]
    }
   ],
   "source": [
    "weatherIsNice = True\n",
    "haveUmbrella = False\n",
    "\n",
    "if haveUmbrella or weatherIsNice:\n",
    "    print('Go for a walk')\n",
    "else:\n",
    "    print('Stay inside')"
   ]
  },
  {
   "cell_type": "code",
   "execution_count": null,
   "id": "7f01dd8f",
   "metadata": {},
   "outputs": [],
   "source": []
  },
  {
   "cell_type": "code",
   "execution_count": null,
   "id": "1e9bb01f-5e40-48b7-b13c-438929e7b7af",
   "metadata": {},
   "outputs": [],
   "source": []
  }
 ],
 "metadata": {
  "kernelspec": {
   "display_name": "Python 3 (ipykernel)",
   "language": "python",
   "name": "python3"
  },
  "language_info": {
   "codemirror_mode": {
    "name": "ipython",
    "version": 3
   },
   "file_extension": ".py",
   "mimetype": "text/x-python",
   "name": "python",
   "nbconvert_exporter": "python",
   "pygments_lexer": "ipython3",
   "version": "3.12.3"
  }
 },
 "nbformat": 4,
 "nbformat_minor": 5
}
