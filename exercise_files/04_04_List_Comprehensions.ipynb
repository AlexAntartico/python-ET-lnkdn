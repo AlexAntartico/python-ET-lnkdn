{
 "cells": [
  {
   "cell_type": "markdown",
   "id": "345ce831",
   "metadata": {},
   "source": [
    "## List Comprehensions"
   ]
  },
  {
   "cell_type": "markdown",
   "id": "3a30ff2d-de1a-4dc9-bd1d-84bfa0d87e06",
   "metadata": {},
   "source": [
    "Syntax for this is:\n",
    "`[expression for item in iterable if condition]`"
   ]
  },
  {
   "cell_type": "code",
   "execution_count": 1,
   "id": "1ac3c215",
   "metadata": {},
   "outputs": [
    {
     "data": {
      "text/plain": [
       "[2, 4, 6, 8, 10]"
      ]
     },
     "execution_count": 1,
     "metadata": {},
     "output_type": "execute_result"
    }
   ],
   "source": [
    "myList = [1,2,3,4,5]\n",
    "[2 * item for item in myList]"
   ]
  },
  {
   "cell_type": "markdown",
   "id": "21948942",
   "metadata": {},
   "source": [
    "### List comprehensions with filters"
   ]
  },
  {
   "cell_type": "code",
   "execution_count": 2,
   "id": "4d3e4c21",
   "metadata": {},
   "outputs": [
    {
     "data": {
      "text/plain": [
       "[0, 10, 20, 30, 40, 50, 60, 70, 80, 90]"
      ]
     },
     "execution_count": 2,
     "metadata": {},
     "output_type": "execute_result"
    }
   ],
   "source": [
    "myList = list(range(100))\n",
    "filteredList = [item for item in myList if item % 10 == 0]\n",
    "filteredList"
   ]
  },
  {
   "cell_type": "code",
   "execution_count": 3,
   "id": "677c0c15",
   "metadata": {},
   "outputs": [
    {
     "name": "stdout",
     "output_type": "stream",
     "text": [
      "[0, 1, 2, 10, 11, 12, 20, 21, 22, 30, 31, 32, 40, 41, 42, 50, 51, 52, 60, 61, 62, 70, 71, 72, 80, 81, 82, 90, 91, 92]\n"
     ]
    }
   ],
   "source": [
    "filteredList = [item for item in myList if item % 10 < 3]\n",
    "print(filteredList)"
   ]
  },
  {
   "cell_type": "markdown",
   "id": "6463db7f",
   "metadata": {},
   "source": [
    "### List comprehensions with functions"
   ]
  },
  {
   "cell_type": "code",
   "execution_count": 4,
   "id": "18b7d353",
   "metadata": {},
   "outputs": [
    {
     "data": {
      "text/plain": [
       "['My name is Ryan Mitchell', ' I live in Boston']"
      ]
     },
     "execution_count": 4,
     "metadata": {},
     "output_type": "execute_result"
    }
   ],
   "source": [
    "# string.split(separator, maxsplit)\n",
    "# maxsplit is optional\n",
    "myString = 'My name is Ryan Mitchell. I live in Boston'\n",
    "myString.split('.')"
   ]
  },
  {
   "cell_type": "code",
   "execution_count": 7,
   "id": "097bb41d",
   "metadata": {},
   "outputs": [
    {
     "data": {
      "text/plain": [
       "['My', 'name', 'is', 'Ryan', 'Mitchell.', 'I', 'live', 'in', 'Boston']"
      ]
     },
     "execution_count": 7,
     "metadata": {},
     "output_type": "execute_result"
    }
   ],
   "source": [
    "myString.split()"
   ]
  },
  {
   "cell_type": "code",
   "execution_count": 8,
   "id": "bbcdc319",
   "metadata": {},
   "outputs": [
    {
     "data": {
      "text/plain": [
       "['my', 'name', 'is', 'ryan', 'mitchell', 'i', 'live', 'in', 'boston']"
      ]
     },
     "execution_count": 8,
     "metadata": {},
     "output_type": "execute_result"
    }
   ],
   "source": [
    "def cleanWord(word):\n",
    "    return word.replace('.', '').lower()\n",
    "\n",
    "[cleanWord(word) for word in myString.split()]"
   ]
  },
  {
   "cell_type": "code",
   "execution_count": 9,
   "id": "34281955",
   "metadata": {},
   "outputs": [
    {
     "data": {
      "text/plain": [
       "['my', 'is', 'i', 'in']"
      ]
     },
     "execution_count": 9,
     "metadata": {},
     "output_type": "execute_result"
    }
   ],
   "source": [
    "[cleanWord(word) for word in myString.split() if len(cleanWord(word)) < 3]"
   ]
  },
  {
   "cell_type": "markdown",
   "id": "fcdadece",
   "metadata": {},
   "source": [
    "### Nested list comprehensions"
   ]
  },
  {
   "cell_type": "code",
   "execution_count": 10,
   "id": "08a10fed",
   "metadata": {},
   "outputs": [
    {
     "data": {
      "text/plain": [
       "[['my', 'name', 'is', 'ryan', 'mitchell'], ['i', 'live', 'in', 'boston']]"
      ]
     },
     "execution_count": 10,
     "metadata": {},
     "output_type": "execute_result"
    }
   ],
   "source": [
    "[[cleanWord(word) for word in sentence.split()] for sentence in myString.split('.')]"
   ]
  },
  {
   "cell_type": "markdown",
   "id": "bf1116b0-7904-42cc-835d-ff9be00bb76d",
   "metadata": {},
   "source": [
    "# Excercises for list comprehensions"
   ]
  },
  {
   "cell_type": "markdown",
   "id": "96622db9-9273-4158-91b7-7c907307542b",
   "metadata": {},
   "source": [
    "1. **Squares of Numbers** Create a list containing the squares of numbers from 1 to 10 (inclusive)."
   ]
  },
  {
   "cell_type": "code",
   "execution_count": 8,
   "id": "ad98b1a8-e2b0-496e-af7d-d75eb7c39aab",
   "metadata": {},
   "outputs": [
    {
     "data": {
      "text/plain": [
       "[1, 2, 3, 4, 5, 6, 7, 8, 9, 10]"
      ]
     },
     "execution_count": 8,
     "metadata": {},
     "output_type": "execute_result"
    }
   ],
   "source": [
    "myList = list(range(1, 11))\n",
    "myList"
   ]
  },
  {
   "cell_type": "code",
   "execution_count": 10,
   "id": "fc535c70-35a5-4a92-bfb3-04b8d57325a7",
   "metadata": {},
   "outputs": [
    {
     "data": {
      "text/plain": [
       "[1, 4, 9, 16, 25, 36, 49, 64, 81, 100]"
      ]
     },
     "execution_count": 10,
     "metadata": {},
     "output_type": "execute_result"
    }
   ],
   "source": [
    "mySquaredList = [i ** 2 for i in myList]\n",
    "mySquaredList"
   ]
  },
  {
   "cell_type": "markdown",
   "id": "dba5503b-058f-4d1a-a58c-55eb735e905f",
   "metadata": {},
   "source": [
    "2. **Even Numbers** Create a list containing only the even numbers from 1 to 20 (inclusive)."
   ]
  },
  {
   "cell_type": "code",
   "execution_count": 20,
   "id": "c93bc691-0b47-465e-95d9-60192e5468c0",
   "metadata": {},
   "outputs": [
    {
     "data": {
      "text/plain": [
       "range(1, 21)"
      ]
     },
     "execution_count": 20,
     "metadata": {},
     "output_type": "execute_result"
    }
   ],
   "source": [
    "# myList = list(range(2, 21, 2))\n",
    "# I guess the above would defeat the purpose of doing a list comprehension...\n",
    "myList = range(1,21)\n",
    "myList"
   ]
  },
  {
   "cell_type": "code",
   "execution_count": 36,
   "id": "c166737e-2e41-49e5-97d4-4b7eb1874bb9",
   "metadata": {},
   "outputs": [],
   "source": [
    "evenList = [i for i in myList if i % 2 == 0]"
   ]
  },
  {
   "cell_type": "code",
   "execution_count": 37,
   "id": "be9eb8e2-899b-4ce5-a9df-e03fa8e7e0b8",
   "metadata": {},
   "outputs": [
    {
     "data": {
      "text/plain": [
       "[2, 4, 6, 8, 10, 12, 14, 16, 18, 20]"
      ]
     },
     "execution_count": 37,
     "metadata": {},
     "output_type": "execute_result"
    }
   ],
   "source": [
    "evenList"
   ]
  },
  {
   "cell_type": "markdown",
   "id": "25802dbd-fdb2-45a5-b80a-1e88f31a319e",
   "metadata": {},
   "source": [
    "3. **Uppercase Words** Given a list of words, create a new list where each word is in uppercase."
   ]
  },
  {
   "cell_type": "code",
   "execution_count": 29,
   "id": "a9ec611e-555b-4cee-9b4c-239879fd20d6",
   "metadata": {},
   "outputs": [],
   "source": [
    "words = [\"apple\", \"banana\", \"cherry\"]"
   ]
  },
  {
   "cell_type": "code",
   "execution_count": 38,
   "id": "03f5bed2-bc81-4fbd-8e55-0fdd2857f15e",
   "metadata": {},
   "outputs": [],
   "source": [
    "upperwords = [i.upper() for i in words ]"
   ]
  },
  {
   "cell_type": "code",
   "execution_count": 39,
   "id": "11af11d2-c332-41be-aac4-91f4da5b3ec4",
   "metadata": {},
   "outputs": [
    {
     "data": {
      "text/plain": [
       "list"
      ]
     },
     "execution_count": 39,
     "metadata": {},
     "output_type": "execute_result"
    }
   ],
   "source": [
    "type(upperwords)"
   ]
  },
  {
   "cell_type": "code",
   "execution_count": 40,
   "id": "f9860176-4489-45e8-b1d7-5c81efa62a22",
   "metadata": {},
   "outputs": [
    {
     "data": {
      "text/plain": [
       "['APPLE', 'BANANA', 'CHERRY']"
      ]
     },
     "execution_count": 40,
     "metadata": {},
     "output_type": "execute_result"
    }
   ],
   "source": [
    "upperwords"
   ]
  },
  {
   "cell_type": "markdown",
   "id": "810cee08-84c7-41c3-8238-2868e0bbba99",
   "metadata": {},
   "source": [
    "expression for item in iterable if condition"
   ]
  },
  {
   "cell_type": "markdown",
   "id": "ba62623f-8ac4-4545-a490-22979df1c324",
   "metadata": {},
   "source": [
    "4. **Length of Words** Given the same list of words, create a list containing the length of each word."
   ]
  },
  {
   "cell_type": "code",
   "execution_count": 41,
   "id": "67a160f5-4f0d-4b2d-bb52-81bfa4638803",
   "metadata": {},
   "outputs": [],
   "source": [
    "words = [\"apple\", \"banana\", \"cherry\"]"
   ]
  },
  {
   "cell_type": "code",
   "execution_count": 43,
   "id": "5056236d-0c0d-4913-8747-c930ece22388",
   "metadata": {},
   "outputs": [],
   "source": [
    "wordsLen = [ len(i) for i in words ]"
   ]
  },
  {
   "cell_type": "code",
   "execution_count": 44,
   "id": "2a695cd0-8910-4947-a6fb-2b376749e083",
   "metadata": {},
   "outputs": [
    {
     "data": {
      "text/plain": [
       "[5, 6, 6]"
      ]
     },
     "execution_count": 44,
     "metadata": {},
     "output_type": "execute_result"
    }
   ],
   "source": [
    "wordsLen"
   ]
  },
  {
   "cell_type": "markdown",
   "id": "48020e6f-1dd1-4ad9-8bc8-46114ec89847",
   "metadata": {},
   "source": [
    "5. **Celsius to Fahrenheit** Convert a list of Celsius temperatures to Fahrenheit."
   ]
  },
  {
   "cell_type": "code",
   "execution_count": 48,
   "id": "e5cfbaa1-2cb2-4d40-9a92-28b830a78aea",
   "metadata": {},
   "outputs": [],
   "source": [
    "celsius = [0, 10, 20, 30, 40]\n",
    "# Fahrenheit = (Celsius * 9/5) + 32"
   ]
  },
  {
   "cell_type": "code",
   "execution_count": 51,
   "id": "0cedc06a-8707-44ca-8663-1fb4b93f0e59",
   "metadata": {},
   "outputs": [
    {
     "data": {
      "text/plain": [
       "[32.0, 50.0, 68.0, 86.0, 104.0]"
      ]
     },
     "execution_count": 51,
     "metadata": {},
     "output_type": "execute_result"
    }
   ],
   "source": [
    "convertedCel = [((i * 9/5) + 32) for i in celsius ]\n",
    "convertedCel"
   ]
  },
  {
   "cell_type": "markdown",
   "id": "e4a6615e-ca11-4e53-ac13-99365e1d874c",
   "metadata": {},
   "source": [
    "6. **Positive Numbers** Given a list of integers, create a new list containing only the positive numbers."
   ]
  },
  {
   "cell_type": "code",
   "execution_count": 52,
   "id": "89a64013-fc91-4daf-b132-4c4b194dc8d4",
   "metadata": {},
   "outputs": [],
   "source": [
    "numbers = [-2, -1, 0, 1, 2, 3, -5]"
   ]
  },
  {
   "cell_type": "code",
   "execution_count": 65,
   "id": "9322ea28-c590-425c-bbfb-5dfab47cac7b",
   "metadata": {},
   "outputs": [
    {
     "data": {
      "text/plain": [
       "[1, 2, 3]"
      ]
     },
     "execution_count": 65,
     "metadata": {},
     "output_type": "execute_result"
    }
   ],
   "source": [
    "intList = [ i for i in numbers if i > 0 ]\n",
    "# 0 is not a positive\n",
    "intList"
   ]
  },
  {
   "cell_type": "markdown",
   "id": "3edb22e5-ec5e-4a12-a6c9-da4f3f14572d",
   "metadata": {},
   "source": [
    "7. **Vowels in a Word** From a given word, extract all the vowels into a list."
   ]
  },
  {
   "cell_type": "code",
   "execution_count": 63,
   "id": "0fce2b2e-04b8-4795-bf68-6c11e5194082",
   "metadata": {},
   "outputs": [],
   "source": [
    "word = \"extraordinary\""
   ]
  },
  {
   "cell_type": "code",
   "execution_count": 64,
   "id": "5d0132bb-76d8-4e20-8710-e4367572b227",
   "metadata": {},
   "outputs": [],
   "source": [
    "vowels = [\"a\",\"e\",\"i\",\"o\",\"u\"]\n",
    "# not considering y a vowel, as it should be"
   ]
  },
  {
   "cell_type": "code",
   "execution_count": 62,
   "id": "5411b66e-7570-4ff0-a4a4-4b7fcf06a2f4",
   "metadata": {},
   "outputs": [
    {
     "data": {
      "text/plain": [
       "['e', 'a', 'o', 'i', 'a']"
      ]
     },
     "execution_count": 62,
     "metadata": {},
     "output_type": "execute_result"
    }
   ],
   "source": [
    "extractVowels = [ i for i in word if i in vowels ]\n",
    "extractVowels"
   ]
  },
  {
   "cell_type": "markdown",
   "id": "d749b5ba-26c1-4ada-bf0e-95d9dbc2bb2d",
   "metadata": {},
   "source": [
    "The following are considered \"intermediate\" difficulty list comprehension exercises"
   ]
  },
  {
   "cell_type": "markdown",
   "id": "701a2fab-789a-4c04-8abb-51faf5f9311a",
   "metadata": {},
   "source": [
    "8. **Numbers Divisible by 3 and 5** Create a list of numbers between 1 and 100 (inclusive) that are divisible by both 3 and 5"
   ]
  },
  {
   "cell_type": "code",
   "execution_count": 75,
   "id": "a483274e-00fb-44d3-8792-de23dff488b0",
   "metadata": {},
   "outputs": [
    {
     "data": {
      "text/plain": [
       "[15, 30, 45, 60, 75, 90]"
      ]
     },
     "execution_count": 75,
     "metadata": {},
     "output_type": "execute_result"
    }
   ],
   "source": [
    "lala = range(1,101)\n",
    "[i for i in lala if (i % 3 == 0) and (i % 5 == 0) ]"
   ]
  },
  {
   "cell_type": "markdown",
   "id": "83843822-f3f1-4e93-b921-47a540e9b94b",
   "metadata": {},
   "source": [
    "9. **Flatten a List of Lists** Given a list where each element is itself a list of numbers, create a single, flat list containing all numbers."
   ]
  },
  {
   "cell_type": "code",
   "execution_count": 76,
   "id": "6141ed2f-f8dd-4ba7-8869-dd977ecb13b4",
   "metadata": {},
   "outputs": [],
   "source": [
    "nested_list = [[1, 2, 3], [4, 5], [6, 7, 8, 9]]"
   ]
  },
  {
   "cell_type": "code",
   "execution_count": 82,
   "id": "df3d64a6-8c96-4bf0-9e6a-f991a58bf1ee",
   "metadata": {},
   "outputs": [
    {
     "data": {
      "text/plain": [
       "[[1, 2, 3], [4, 5], [6, 7, 8, 9]]"
      ]
     },
     "execution_count": 82,
     "metadata": {},
     "output_type": "execute_result"
    }
   ],
   "source": [
    "[i for i in nested_list]"
   ]
  },
  {
   "cell_type": "code",
   "execution_count": 81,
   "id": "5b5b31ed-0809-40a8-96f0-5b5efa097321",
   "metadata": {},
   "outputs": [
    {
     "data": {
      "text/plain": [
       "[[[1, 2, 3], [4, 5], [6, 7, 8, 9]],\n",
       " [[1, 2, 3], [4, 5], [6, 7, 8, 9]],\n",
       " [[1, 2, 3], [4, 5], [6, 7, 8, 9]]]"
      ]
     },
     "execution_count": 81,
     "metadata": {},
     "output_type": "execute_result"
    }
   ],
   "source": [
    "[[i for i in nested_list] for i in nested_list]"
   ]
  },
  {
   "cell_type": "code",
   "execution_count": null,
   "id": "3589fa9e-c38f-425a-a2e5-304072295d81",
   "metadata": {},
   "outputs": [],
   "source": []
  },
  {
   "cell_type": "code",
   "execution_count": null,
   "id": "1736360d-b98a-4da3-aaac-4c9528c794b1",
   "metadata": {},
   "outputs": [],
   "source": []
  },
  {
   "cell_type": "code",
   "execution_count": null,
   "id": "0e3fcd0d-7780-422c-8eb3-6a1db0dc8994",
   "metadata": {},
   "outputs": [],
   "source": []
  },
  {
   "cell_type": "code",
   "execution_count": null,
   "id": "9fb7edb9-51ab-4aed-8632-736922daa794",
   "metadata": {},
   "outputs": [],
   "source": []
  },
  {
   "cell_type": "code",
   "execution_count": null,
   "id": "1c9d1923-8943-4215-acfe-317814731aa6",
   "metadata": {},
   "outputs": [],
   "source": []
  },
  {
   "cell_type": "code",
   "execution_count": null,
   "id": "ad87cb1d-d0bd-4dcc-aeef-b9786d8c0726",
   "metadata": {},
   "outputs": [],
   "source": []
  },
  {
   "cell_type": "code",
   "execution_count": null,
   "id": "50d570ec-91ab-40e9-8c99-660ab27e5d62",
   "metadata": {},
   "outputs": [],
   "source": []
  },
  {
   "cell_type": "code",
   "execution_count": null,
   "id": "4a8de046-0421-439f-b4da-9d2539a8a213",
   "metadata": {},
   "outputs": [],
   "source": []
  },
  {
   "cell_type": "code",
   "execution_count": null,
   "id": "61058ef2-2f83-4810-a7ce-5da11c40a277",
   "metadata": {},
   "outputs": [],
   "source": []
  },
  {
   "cell_type": "code",
   "execution_count": null,
   "id": "7efe0234-83c7-4407-b50c-e5e6381a8a2a",
   "metadata": {},
   "outputs": [],
   "source": []
  },
  {
   "cell_type": "code",
   "execution_count": null,
   "id": "40d643d4-3bbc-4bfe-bb6f-20e876501840",
   "metadata": {},
   "outputs": [],
   "source": []
  },
  {
   "cell_type": "code",
   "execution_count": null,
   "id": "0a215f6f-6d88-41ed-bd71-c09c6321cd04",
   "metadata": {},
   "outputs": [],
   "source": []
  },
  {
   "cell_type": "code",
   "execution_count": null,
   "id": "f9c83dde-d227-4c83-828d-e47966687fd6",
   "metadata": {},
   "outputs": [],
   "source": []
  }
 ],
 "metadata": {
  "kernelspec": {
   "display_name": "Python 3 (ipykernel)",
   "language": "python",
   "name": "python3"
  },
  "language_info": {
   "codemirror_mode": {
    "name": "ipython",
    "version": 3
   },
   "file_extension": ".py",
   "mimetype": "text/x-python",
   "name": "python",
   "nbconvert_exporter": "python",
   "pygments_lexer": "ipython3",
   "version": "3.12.3"
  }
 },
 "nbformat": 4,
 "nbformat_minor": 5
}
