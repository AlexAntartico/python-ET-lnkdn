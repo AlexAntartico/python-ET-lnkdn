{
 "cells": [
  {
   "cell_type": "markdown",
   "id": "5cd90a72",
   "metadata": {},
   "source": [
    "## Converting Hexadecimal to Decimal\n"
   ]
  },
  {
   "cell_type": "code",
   "execution_count": null,
   "id": "6f856dbf-cb3b-46f6-974c-2183088fc2eb",
   "metadata": {},
   "outputs": [],
   "source": []
  },
  {
   "cell_type": "markdown",
   "id": "b204bc4e",
   "metadata": {},
   "source": [
    "### Challenge Hints!"
   ]
  },
  {
   "cell_type": "markdown",
   "id": "41ca3358",
   "metadata": {},
   "source": [
    "**Hint 1:** The following will convert 'ABC' into a decimal:\n"
   ]
  },
  {
   "cell_type": "code",
   "execution_count": 1,
   "id": "31190f4a",
   "metadata": {},
   "outputs": [
    {
     "data": {
      "text/plain": [
       "2748"
      ]
     },
     "execution_count": 1,
     "metadata": {},
     "output_type": "execute_result"
    }
   ],
   "source": [
    "hexNumbers = {\n",
    "    '0': 0, '1': 1, '2': 2, '3': 3, '4': 4, '5': 5, '6': 6, '7': 7, '8': 8, '9': 9,\n",
    "    'A': 10, 'B': 11, 'C': 12, 'D': 13, 'E': 14, 'F': 15\n",
    "}\n",
    "\n",
    "hexNumbers['A'] * 256 + hexNumbers['B'] * 16 + hexNumbers['C'] "
   ]
  },
  {
   "cell_type": "markdown",
   "id": "61a884ee",
   "metadata": {},
   "source": [
    "**Hint 2:** You can check to see how long the hex string is with:"
   ]
  },
  {
   "cell_type": "code",
   "execution_count": 4,
   "id": "7f4a3877",
   "metadata": {},
   "outputs": [
    {
     "data": {
      "text/plain": [
       "2"
      ]
     },
     "execution_count": 4,
     "metadata": {},
     "output_type": "execute_result"
    }
   ],
   "source": [
    "hexNum = '1B'\n",
    "len(hexNum)"
   ]
  },
  {
   "cell_type": "markdown",
   "id": "2893d9ef",
   "metadata": {},
   "source": [
    "**Hint 3:** You can get the character at each position of a string like this:"
   ]
  },
  {
   "cell_type": "code",
   "execution_count": 5,
   "id": "a9cb3333",
   "metadata": {},
   "outputs": [
    {
     "name": "stdout",
     "output_type": "stream",
     "text": [
      "A\n",
      "B\n",
      "C\n"
     ]
    }
   ],
   "source": [
    "hexNum = 'ABC'\n",
    "print(hexNum[0])\n",
    "print(hexNum[1])\n",
    "print(hexNum[2])\n"
   ]
  },
  {
   "cell_type": "code",
   "execution_count": 2,
   "id": "cfc54187",
   "metadata": {},
   "outputs": [],
   "source": [
    "hexNumbers = {\n",
    "    '0': 0, '1': 1, '2': 2, '3': 3, '4': 4, '5': 5, '6': 6, '7': 7, '8': 8, '9': 9,\n",
    "    'A': 10, 'B': 11, 'C': 12, 'D': 13, 'E': 14, 'F': 15\n",
    "}\n",
    "\n",
    "# Converts a string hexadecimal number into an integer decimal\n",
    "# If hexNum is not a valid hexadecimal number, returns None\n",
    "def hexToDec(hexNum):\n",
    "    pass"
   ]
  },
  {
   "cell_type": "markdown",
   "id": "db14e41c-81f1-4897-8bde-cd4855060fba",
   "metadata": {},
   "source": [
    "**Hint 4**: You can tell if every character in a string is a hex character like this:\n",
    "\n"
   ]
  },
  {
   "cell_type": "code",
   "execution_count": 3,
   "id": "6d4c987e-3b52-4679-9ae6-ce3115fd5fa9",
   "metadata": {},
   "outputs": [
    {
     "name": "stdout",
     "output_type": "stream",
     "text": [
      "Z is not a hex character!\n"
     ]
    }
   ],
   "source": [
    "myString = 'ABCZ'\n",
    "for char in myString:\n",
    "    if char not in hexNumbers:\n",
    "        print(f'{char} is not a hex character!')"
   ]
  },
  {
   "cell_type": "code",
   "execution_count": 2,
   "id": "3ae60510-e28e-48cb-a4a7-de383931faa6",
   "metadata": {},
   "outputs": [],
   "source": [
    "\n",
    "\n",
    "# Python code​​​​​​‌‌​‌‌‌​​​​​​‌​​​​​‌​​​‌‌​ below\n",
    "hexNumbers = {\n",
    "    '0': 0, '1': 1, '2': 2, '3': 3, '4': 4, '5': 5, '6': 6, '7': 7, '8': 8, '9': 9,\n",
    "    'A': 10, 'B': 11, 'C': 12, 'D': 13, 'E': 14, 'F': 15\n",
    "}\n",
    "\n",
    "# Converts a string hexadecimal number into an integer decimal\n",
    "# If hexNum is not a valid hexadecimal number, returns None\n",
    "def hexToDec(hexNum):\n",
    "    places = len(hexNum)\n",
    "    print(places)"
   ]
  },
  {
   "cell_type": "code",
   "execution_count": 4,
   "id": "06fcb34d-ab21-4ea4-8fd5-d4dd5d7de2b1",
   "metadata": {},
   "outputs": [
    {
     "name": "stdout",
     "output_type": "stream",
     "text": [
      "3\n"
     ]
    }
   ],
   "source": [
    "hexToDec(\"1F1\")"
   ]
  },
  {
   "cell_type": "code",
   "execution_count": 5,
   "id": "52e3cd7d-7780-4f79-876c-67a89e337a24",
   "metadata": {},
   "outputs": [
    {
     "data": {
      "text/plain": [
       "dict"
      ]
     },
     "execution_count": 5,
     "metadata": {},
     "output_type": "execute_result"
    }
   ],
   "source": [
    "type(hexNumbers)"
   ]
  },
  {
   "cell_type": "code",
   "execution_count": 12,
   "id": "42e37b20-996a-4039-a4ab-af9bedf1d2e0",
   "metadata": {},
   "outputs": [
    {
     "data": {
      "text/plain": [
       "True"
      ]
     },
     "execution_count": 12,
     "metadata": {},
     "output_type": "execute_result"
    }
   ],
   "source": [
    "\"A\" in hexNumbers.keys()"
   ]
  },
  {
   "cell_type": "code",
   "execution_count": 41,
   "id": "a98e486b-4d93-4c4b-87b8-575cadc38523",
   "metadata": {},
   "outputs": [],
   "source": [
    "# Python code​​​​​​‌‌​‌‌‌​​​​​​‌​​​​​‌​​​‌‌​ below\n",
    "hexNumbers = {\n",
    "    '0': 0, '1': 1, '2': 2, '3': 3, '4': 4, '5': 5, '6': 6, '7': 7, '8': 8, '9': 9,\n",
    "    'A': 10, 'B': 11, 'C': 12, 'D': 13, 'E': 14, 'F': 15\n",
    "}\n",
    "\n",
    "# Converts a string hexadecimal number into an integer decimal\n",
    "# If hexNum is not a valid hexadecimal number, returns None\n",
    "def hexToDec(hexNum):\n",
    "    # check if its a string\n",
    "    if isinstance(hexNum, str):\n",
    "        # make letters upper case\n",
    "        hexNum = hexNum.upper()\n",
    "        # cast hexNum into a list\n",
    "        hexNum = list(hexNum)\n",
    "        # iterating over each item\n",
    "        for i in hexNum:\n",
    "            # comparing values vs dict keys\n",
    "            if i not in hexNumbers.keys():\n",
    "                return None\n",
    "        else:\n",
    "            if len(hexNum) == 3:\n",
    "                # we are accessing dictionary value based on the list item hexNum[*]\n",
    "                return (hexNumbers[hexNum[0]] * 256) + (hexNumbers[hexNum[1]] * 16) + (hexNumbers[hexNum[2]] * 1) \n",
    "            elif len(hexNum) == 2:\n",
    "                return (hexNumbers[hexNum[0]] * 16) + (hexNumbers[hexNum[1]] * 1)\n",
    "            elif len(hexNum) == 1:\n",
    "                return (hexNumbers[hexNum[0]] * 1)\n",
    "            else:\n",
    "                return None\n",
    "    else:\n",
    "        return None"
   ]
  },
  {
   "cell_type": "code",
   "execution_count": 42,
   "id": "f5b4a0d4-5695-4ae2-afaf-a33f971917e4",
   "metadata": {},
   "outputs": [
    {
     "data": {
      "text/plain": [
       "2479"
      ]
     },
     "execution_count": 42,
     "metadata": {},
     "output_type": "execute_result"
    }
   ],
   "source": [
    "hexToDec(\"9AF\")"
   ]
  },
  {
   "cell_type": "code",
   "execution_count": 43,
   "id": "e82c9f64-36f0-4ed9-8e1f-b97f719d5ece",
   "metadata": {},
   "outputs": [],
   "source": [
    "hexToDec(\"anita lava la tina\")"
   ]
  },
  {
   "cell_type": "code",
   "execution_count": 44,
   "id": "b26bb63a-383b-41d4-bf0b-51eb12751333",
   "metadata": {},
   "outputs": [],
   "source": [
    "test = \"9AF\""
   ]
  },
  {
   "cell_type": "code",
   "execution_count": 45,
   "id": "acdcec18-9bdf-4907-be56-db0ed38afa9a",
   "metadata": {},
   "outputs": [
    {
     "data": {
      "text/plain": [
       "3"
      ]
     },
     "execution_count": 45,
     "metadata": {},
     "output_type": "execute_result"
    }
   ],
   "source": [
    "len(test)"
   ]
  },
  {
   "cell_type": "code",
   "execution_count": null,
   "id": "d3fbe79e-2a2b-4df5-8460-ebda83dba259",
   "metadata": {},
   "outputs": [],
   "source": []
  }
 ],
 "metadata": {
  "kernelspec": {
   "display_name": "Python 3 (ipykernel)",
   "language": "python",
   "name": "python3"
  },
  "language_info": {
   "codemirror_mode": {
    "name": "ipython",
    "version": 3
   },
   "file_extension": ".py",
   "mimetype": "text/x-python",
   "name": "python",
   "nbconvert_exporter": "python",
   "pygments_lexer": "ipython3",
   "version": "3.12.3"
  },
  "vscode": {
   "interpreter": {
    "hash": "949777d72b0d2535278d3dc13498b2535136f6dfe0678499012e853ee9abcab1"
   }
  }
 },
 "nbformat": 4,
 "nbformat_minor": 5
}
