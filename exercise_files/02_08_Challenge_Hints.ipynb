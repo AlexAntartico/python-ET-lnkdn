{
 "cells": [
  {
   "cell_type": "markdown",
   "id": "48f2163c",
   "metadata": {},
   "source": [
    "## Factorial Challenge\n",
    "\n",
    "The factorial function gives the number of possible arrangements of a set of items of length \"n\"\n",
    "\n",
    "For example, there are 4! (\"four factorial\") or 24 ways to arrange four items, which can be calculated as: \n",
    "4 \\* 3 \\* 2 \\* 1\n",
    "\n",
    "5! = 5 \\* 4 \\* 3 \\* 2 \\* 1 = 120\n",
    "\n",
    "6! = 6 \\* 5 \\* 4 \\* 3 \\* 2 \\* 1 = 720\n",
    "\n",
    "etc.\n",
    "\n",
    "In a set of 0 items (an empty set) there is only one way to arrange the items, therefore, 0! = 1\n",
    "\n",
    "For the purposes of this exercise, factorials are only defined for **positive integers** (including 0)\n",
    "\n"
   ]
  },
  {
   "cell_type": "markdown",
   "id": "76c229aa",
   "metadata": {},
   "source": [
    "### Challenge Hints!"
   ]
  },
  {
   "cell_type": "markdown",
   "id": "102ebdab",
   "metadata": {},
   "source": [
    "**HINT 1:** You can figure out whether a variable is of a certain type in the following way:\n"
   ]
  },
  {
   "cell_type": "code",
   "execution_count": 14,
   "id": "df2ebdca",
   "metadata": {
    "scrolled": true
   },
   "outputs": [
    {
     "name": "stdout",
     "output_type": "stream",
     "text": [
      "myVar is an integer!\n"
     ]
    }
   ],
   "source": [
    "myVar = 1\n",
    "\n",
    "if type(myVar) == int:\n",
    "    print('myVar is an integer!')\n",
    "\n",
    "if type(myVar) != int:\n",
    "    print('myVar is NOT an integer!')"
   ]
  },
  {
   "cell_type": "markdown",
   "id": "77f06600",
   "metadata": {},
   "source": [
    "**HINT 2:** You can create a while loop and manipulate multiple variables inside of it:"
   ]
  },
  {
   "cell_type": "code",
   "execution_count": 5,
   "id": "6ac23a6d",
   "metadata": {},
   "outputs": [
    {
     "data": {
      "text/plain": [
       "55"
      ]
     },
     "execution_count": 5,
     "metadata": {},
     "output_type": "execute_result"
    }
   ],
   "source": [
    "# This prints the sum of all of the numbers from 1 to 10\n",
    "i = 0\n",
    "s = 0\n",
    "while i < 10:\n",
    "    i = i + 1\n",
    "    s = s + i\n",
    "\n",
    "s"
   ]
  },
  {
   "cell_type": "markdown",
   "id": "c058630b",
   "metadata": {},
   "source": [
    "**HINT 3:** Alternatively, a function can call itself! This is called \"recursion\" This also returns the sum of all numbers from 0 to 10:\n"
   ]
  },
  {
   "cell_type": "code",
   "execution_count": 6,
   "id": "094c9140",
   "metadata": {},
   "outputs": [
    {
     "data": {
      "text/plain": [
       "55"
      ]
     },
     "execution_count": 6,
     "metadata": {},
     "output_type": "execute_result"
    }
   ],
   "source": [
    "def addNumbers(i):\n",
    "    if i == 0:\n",
    "        return 0\n",
    "    return i + addNumbers(i - 1)\n",
    "    \n",
    "addNumbers(10)"
   ]
  },
  {
   "cell_type": "code",
   "execution_count": 4,
   "id": "92af0386",
   "metadata": {},
   "outputs": [],
   "source": [
    "# Returns the value of the factorial of num if it is defined, otherwise, returns None\n",
    "# Returns: None for != int and < 0\n",
    "# isinstance \n",
    "\n",
    "\n",
    "def factorial(n):\n",
    "    if isinstance(n, int):\n",
    "        if n in [0, 1]:\n",
    "            return 1\n",
    "        elif n < 0:\n",
    "            return None\n",
    "        else:\n",
    "            return n * factorial(n -1)\n",
    "    else:\n",
    "        None"
   ]
  },
  {
   "cell_type": "code",
   "execution_count": 5,
   "id": "1d10be7a",
   "metadata": {},
   "outputs": [
    {
     "data": {
      "text/plain": [
       "120"
      ]
     },
     "execution_count": 5,
     "metadata": {},
     "output_type": "execute_result"
    }
   ],
   "source": [
    "factorial(5)"
   ]
  },
  {
   "cell_type": "code",
   "execution_count": 6,
   "id": "c43845c1",
   "metadata": {},
   "outputs": [
    {
     "data": {
      "text/plain": [
       "1"
      ]
     },
     "execution_count": 6,
     "metadata": {},
     "output_type": "execute_result"
    }
   ],
   "source": [
    "factorial(0)"
   ]
  },
  {
   "cell_type": "code",
   "execution_count": 7,
   "id": "8f605415",
   "metadata": {},
   "outputs": [],
   "source": [
    "factorial(-2)"
   ]
  },
  {
   "cell_type": "code",
   "execution_count": 8,
   "id": "5b973ff0",
   "metadata": {},
   "outputs": [],
   "source": [
    "factorial(1.2)"
   ]
  },
  {
   "cell_type": "code",
   "execution_count": 9,
   "id": "67f07cca",
   "metadata": {},
   "outputs": [],
   "source": [
    "factorial('spam spam spam spam spam spam')"
   ]
  },
  {
   "cell_type": "code",
   "execution_count": 10,
   "id": "714148cd",
   "metadata": {},
   "outputs": [
    {
     "data": {
      "text/plain": [
       "1"
      ]
     },
     "execution_count": 10,
     "metadata": {},
     "output_type": "execute_result"
    }
   ],
   "source": [
    "factorial(0)"
   ]
  },
  {
   "cell_type": "markdown",
   "id": "c01f8afd-b31d-4c5e-8f21-869ff589981a",
   "metadata": {},
   "source": [
    "## isinstance()\n",
    "\n",
    "isinstance returns `True` if object is an instance of any of the classes in the tuple. Can be used with the below:\n",
    "\n",
    "- Strings\n",
    "- Lists\n",
    "- Tuples\n",
    "- Dictionaries\n",
    "- Sets\n",
    "- Booleans\n",
    "- Custom Classes\n",
    "\n",
    "syntax is: `isinstance(object, classinfo)`\n",
    "\n",
    "isinstance is generaly used as validation of a type and can be expanded to check for other types."
   ]
  },
  {
   "cell_type": "code",
   "execution_count": 13,
   "id": "29c432e9-6bba-4272-a559-65789d948c29",
   "metadata": {},
   "outputs": [
    {
     "name": "stdout",
     "output_type": "stream",
     "text": [
      "True\n",
      "False\n"
     ]
    }
   ],
   "source": [
    "# Strings\n",
    "my_str = \"hello\"\n",
    "print(isinstance(my_str, str))\n",
    "print(isinstance(my_str, int))"
   ]
  },
  {
   "cell_type": "code",
   "execution_count": 16,
   "id": "875c89f5-79e4-4a10-9859-d315ba17e60e",
   "metadata": {},
   "outputs": [
    {
     "name": "stdout",
     "output_type": "stream",
     "text": [
      "True\n",
      "True\n"
     ]
    }
   ],
   "source": [
    "# Lists\n",
    "\n",
    "my_list = [1, 2, 3]\n",
    "print(isinstance(my_list, list))\n",
    "print(isinstance(my_list, (tuple, list)))"
   ]
  },
  {
   "cell_type": "markdown",
   "id": "6a246815-0c3f-4a74-9663-99f106757548",
   "metadata": {},
   "source": [
    "the above is `true` because `print(isinstance(my_list, (tuple, list)))` will check against multiple values"
   ]
  },
  {
   "cell_type": "code",
   "execution_count": 17,
   "id": "4a2ca73b-78ef-41f4-8eae-cfb2daa9c45f",
   "metadata": {},
   "outputs": [
    {
     "name": "stdout",
     "output_type": "stream",
     "text": [
      "True\n"
     ]
    }
   ],
   "source": [
    "# Tuples\n",
    "my_tuple = (1, 2)\n",
    "print(isinstance(my_tuple, tuple)) "
   ]
  },
  {
   "cell_type": "code",
   "execution_count": 18,
   "id": "e2d9ee1e-de04-4c27-85fd-88de3f898e44",
   "metadata": {},
   "outputs": [
    {
     "name": "stdout",
     "output_type": "stream",
     "text": [
      "True\n"
     ]
    }
   ],
   "source": [
    "# Dictionaries\n",
    "my_dict = {\"a\": 1, \"b\": 2}\n",
    "print(isinstance(my_dict, dict)) "
   ]
  },
  {
   "cell_type": "code",
   "execution_count": 20,
   "id": "e5249ca5-d52d-4137-a7ec-234c0cc2be2f",
   "metadata": {},
   "outputs": [
    {
     "name": "stdout",
     "output_type": "stream",
     "text": [
      "True\n"
     ]
    }
   ],
   "source": [
    "# Sets\n",
    "my_set = {1, 2, 3}\n",
    "print(isinstance(my_set, set))"
   ]
  },
  {
   "cell_type": "code",
   "execution_count": 22,
   "id": "185792ef-a8b1-4a39-9458-d96d6676cafb",
   "metadata": {},
   "outputs": [
    {
     "name": "stdout",
     "output_type": "stream",
     "text": [
      "True\n",
      "True\n",
      "False\n"
     ]
    }
   ],
   "source": [
    "# Booleans. Booleans are considered a subclass of integers in Python (1 and 0)\n",
    "my_bool = True\n",
    "print(isinstance(my_bool, bool))\n",
    "print(isinstance(my_bool, int)) \n",
    "print(isinstance(my_bool, float)) "
   ]
  },
  {
   "cell_type": "code",
   "execution_count": 26,
   "id": "6956940a-38f9-4f53-bc5f-ab15b2b215f2",
   "metadata": {},
   "outputs": [
    {
     "name": "stdout",
     "output_type": "stream",
     "text": [
      "True\n",
      "True\n",
      "False\n"
     ]
    }
   ],
   "source": [
    "# Custom Classes\n",
    "\n",
    "class MyClass:\n",
    "    pass\n",
    "\n",
    "class MySubClass(MyClass):\n",
    "    pass\n",
    "\n",
    "obj1 = MyClass()\n",
    "obj2 = MySubClass()\n",
    "\n",
    "print(isinstance(obj1, MyClass))\n",
    "# obj2 is True because MySubClass is an instance of MyClass\n",
    "print(isinstance(obj2, MyClass))\n",
    "print(isinstance(obj1, MySubClass))\n",
    "    "
   ]
  }
 ],
 "metadata": {
  "kernelspec": {
   "display_name": "Python 3 (ipykernel)",
   "language": "python",
   "name": "python3"
  },
  "language_info": {
   "codemirror_mode": {
    "name": "ipython",
    "version": 3
   },
   "file_extension": ".py",
   "mimetype": "text/x-python",
   "name": "python",
   "nbconvert_exporter": "python",
   "pygments_lexer": "ipython3",
   "version": "3.12.3"
  }
 },
 "nbformat": 4,
 "nbformat_minor": 5
}
