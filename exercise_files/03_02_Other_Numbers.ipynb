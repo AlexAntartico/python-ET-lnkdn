{
 "cells": [
  {
   "cell_type": "code",
   "execution_count": 17,
   "id": "6198165c",
   "metadata": {},
   "outputs": [],
   "source": [
    "from decimal import Decimal, getcontext"
   ]
  },
  {
   "cell_type": "markdown",
   "id": "07c07c37",
   "metadata": {},
   "source": [
    "## Integers"
   ]
  },
  {
   "cell_type": "code",
   "execution_count": 1,
   "id": "90fc3a0f",
   "metadata": {},
   "outputs": [
    {
     "data": {
      "text/plain": [
       "100"
      ]
     },
     "execution_count": 1,
     "metadata": {},
     "output_type": "execute_result"
    }
   ],
   "source": [
    "int('100')"
   ]
  },
  {
   "cell_type": "markdown",
   "id": "784c1acd-2637-4947-8ce7-be94d506a719",
   "metadata": {},
   "source": [
    "## `int()` function\n",
    "\n",
    "When you give two parameters to an `int()` function, it is used to convert a **string** representation of a number in a specific base or radix, into its integer equivalent in base 10 (decimal)\n",
    "- First argument `'100'`, is the string representing the number you want to convert.\n",
    "- Second argument, `2`, specifies the **base of that number**, in this case, 2 means its a binary number.\n",
    "\n",
    "So `int('100', 2)` means, \"take the binary 100 and convert to its decimal"
   ]
  },
  {
   "cell_type": "code",
   "execution_count": 6,
   "id": "d8b37c5e",
   "metadata": {},
   "outputs": [
    {
     "data": {
      "text/plain": [
       "4"
      ]
     },
     "execution_count": 6,
     "metadata": {},
     "output_type": "execute_result"
    }
   ],
   "source": [
    "# Converting from base 2 to decimal\n",
    "# 100 in base 2, is 4 in dec\n",
    "int('100', 2)"
   ]
  },
  {
   "cell_type": "code",
   "execution_count": 8,
   "id": "4a827a52",
   "metadata": {},
   "outputs": [
    {
     "ename": "TypeError",
     "evalue": "int() can't convert non-string with explicit base",
     "output_type": "error",
     "traceback": [
      "\u001b[31m---------------------------------------------------------------------------\u001b[39m",
      "\u001b[31mTypeError\u001b[39m                                 Traceback (most recent call last)",
      "\u001b[36mCell\u001b[39m\u001b[36m \u001b[39m\u001b[32mIn[8]\u001b[39m\u001b[32m, line 2\u001b[39m\n\u001b[32m      1\u001b[39m \u001b[38;5;66;03m# This fails because 100 is not a string representation\u001b[39;00m\n\u001b[32m----> \u001b[39m\u001b[32m2\u001b[39m \u001b[38;5;28;43mint\u001b[39;49m\u001b[43m(\u001b[49m\u001b[32;43m100\u001b[39;49m\u001b[43m,\u001b[49m\u001b[43m \u001b[49m\u001b[32;43m2\u001b[39;49m\u001b[43m)\u001b[49m\n",
      "\u001b[31mTypeError\u001b[39m: int() can't convert non-string with explicit base"
     ]
    }
   ],
   "source": [
    "# This fails because 100 is not a string representation\n",
    "int(100, 2)"
   ]
  },
  {
   "cell_type": "code",
   "execution_count": 10,
   "id": "a8a0e4f7",
   "metadata": {},
   "outputs": [
    {
     "data": {
      "text/plain": [
       "427"
      ]
     },
     "execution_count": 10,
     "metadata": {},
     "output_type": "execute_result"
    }
   ],
   "source": [
    "int('1ab', 16)"
   ]
  },
  {
   "cell_type": "code",
   "execution_count": 11,
   "id": "f625c653",
   "metadata": {},
   "outputs": [
    {
     "data": {
      "text/plain": [
       "0.19999999999999996"
      ]
     },
     "execution_count": 11,
     "metadata": {},
     "output_type": "execute_result"
    }
   ],
   "source": [
    "1.2 - 1.0"
   ]
  },
  {
   "cell_type": "code",
   "execution_count": 13,
   "id": "084de30f-fdca-495d-9971-67ceee7ed02a",
   "metadata": {},
   "outputs": [
    {
     "data": {
      "text/plain": [
       "449"
      ]
     },
     "execution_count": 13,
     "metadata": {},
     "output_type": "execute_result"
    }
   ],
   "source": [
    "# transform 701 from base 8 to decimal\n",
    "int('701', 8)"
   ]
  },
  {
   "cell_type": "markdown",
   "id": "8c7e7020",
   "metadata": {},
   "source": [
    "## Decimals"
   ]
  },
  {
   "cell_type": "markdown",
   "id": "502419d7-ca60-4b0e-a351-67ca2cee2a8b",
   "metadata": {},
   "source": [
    "`getcontext()` is a function from the `decimal` module. It is used to retrieve the current thread-local context for decimal arithmetic. The context is an object that sores various settings and flags that control how decimal numbers are handled in the decimal module.\n",
    "\n",
    "Standard Python float numbers are typically implemented using binary floating-point arithmetic, which can sometimes lead to small precision errors when dealing with decimal fractions (ie, `0.1 + 0.2` are not  exactly `0.3`). This is a limitation on how binary represents some decimal fractions.\n",
    "\n",
    "The `decimal` module, provides **decimal floating-point arithmetic**, which is designed to provide exact decimal representations and arithmetic, making it suitable for financial calculations, precise scientific work, or any situation where exact decimal representation is critical.\n",
    "\n",
    "`getcontext()`, returns the `Context` object, which is used in conjuction to setcontext() to manage the settings for decimal operations.\n"
   ]
  },
  {
   "cell_type": "code",
   "execution_count": 29,
   "id": "0e9334d6",
   "metadata": {},
   "outputs": [
    {
     "data": {
      "text/plain": [
       "Context(prec=2, rounding=ROUND_HALF_EVEN, Emin=-999999, Emax=999999, capitals=1, clamp=0, flags=[Inexact, FloatOperation, Rounded], traps=[InvalidOperation, DivisionByZero, Overflow])"
      ]
     },
     "execution_count": 29,
     "metadata": {},
     "output_type": "execute_result"
    }
   ],
   "source": [
    "getcontext()"
   ]
  },
  {
   "cell_type": "code",
   "execution_count": 30,
   "id": "32dc75fb",
   "metadata": {},
   "outputs": [],
   "source": [
    "getcontext().prec=4"
   ]
  },
  {
   "cell_type": "code",
   "execution_count": 31,
   "id": "fd4dad61",
   "metadata": {},
   "outputs": [
    {
     "data": {
      "text/plain": [
       "Context(prec=4, rounding=ROUND_HALF_EVEN, Emin=-999999, Emax=999999, capitals=1, clamp=0, flags=[Inexact, FloatOperation, Rounded], traps=[InvalidOperation, DivisionByZero, Overflow])"
      ]
     },
     "execution_count": 31,
     "metadata": {},
     "output_type": "execute_result"
    }
   ],
   "source": [
    "getcontext()"
   ]
  },
  {
   "cell_type": "code",
   "execution_count": 32,
   "id": "645adafe",
   "metadata": {},
   "outputs": [
    {
     "data": {
      "text/plain": [
       "Decimal('0.3333')"
      ]
     },
     "execution_count": 32,
     "metadata": {},
     "output_type": "execute_result"
    }
   ],
   "source": [
    "Decimal(1) / Decimal(3)"
   ]
  },
  {
   "cell_type": "code",
   "execution_count": 33,
   "id": "4c4f9d41",
   "metadata": {},
   "outputs": [],
   "source": [
    "getcontext().prec=2"
   ]
  },
  {
   "cell_type": "code",
   "execution_count": 34,
   "id": "720466f4",
   "metadata": {},
   "outputs": [
    {
     "data": {
      "text/plain": [
       "Decimal('0.33')"
      ]
     },
     "execution_count": 34,
     "metadata": {},
     "output_type": "execute_result"
    }
   ],
   "source": [
    "Decimal(1) / Decimal(3)"
   ]
  },
  {
   "cell_type": "code",
   "execution_count": 35,
   "id": "1ae61cfc",
   "metadata": {},
   "outputs": [
    {
     "data": {
      "text/plain": [
       "Decimal('3.140000000000000124344978758017532527446746826171875')"
      ]
     },
     "execution_count": 35,
     "metadata": {},
     "output_type": "execute_result"
    }
   ],
   "source": [
    "Decimal(3.14)"
   ]
  },
  {
   "cell_type": "code",
   "execution_count": 36,
   "id": "9463274c",
   "metadata": {},
   "outputs": [
    {
     "data": {
      "text/plain": [
       "Decimal('3.14')"
      ]
     },
     "execution_count": 36,
     "metadata": {},
     "output_type": "execute_result"
    }
   ],
   "source": [
    "Decimal('3.14')"
   ]
  },
  {
   "cell_type": "code",
   "execution_count": 26,
   "id": "03e53ec7",
   "metadata": {},
   "outputs": [
    {
     "data": {
      "text/plain": [
       "0.2"
      ]
     },
     "execution_count": 26,
     "metadata": {},
     "output_type": "execute_result"
    }
   ],
   "source": [
    "round(1.2 - 1.0, 2)"
   ]
  }
 ],
 "metadata": {
  "kernelspec": {
   "display_name": "Python 3 (ipykernel)",
   "language": "python",
   "name": "python3"
  },
  "language_info": {
   "codemirror_mode": {
    "name": "ipython",
    "version": 3
   },
   "file_extension": ".py",
   "mimetype": "text/x-python",
   "name": "python",
   "nbconvert_exporter": "python",
   "pygments_lexer": "ipython3",
   "version": "3.12.3"
  }
 },
 "nbformat": 4,
 "nbformat_minor": 5
}
